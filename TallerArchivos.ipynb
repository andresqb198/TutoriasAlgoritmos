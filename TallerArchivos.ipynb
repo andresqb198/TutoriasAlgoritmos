{
 "cells": [
  {
   "cell_type": "code",
   "execution_count": 1,
   "id": "0b5be53e-db3c-422d-803a-4954923204c8",
   "metadata": {},
   "outputs": [],
   "source": [
    "import numpy as np\n",
    "import os"
   ]
  },
  {
   "cell_type": "code",
   "execution_count": 2,
   "id": "9cbc6d07-ffec-4e7a-b920-025640779ce9",
   "metadata": {},
   "outputs": [],
   "source": [
    "archivo = open('Pedido.txt','r')\n",
    "lines = []\n",
    "ingredientes = []\n",
    "ingrediente = 'Ingrediente'"
   ]
  },
  {
   "cell_type": "code",
   "execution_count": 3,
   "id": "23247add-c7f5-4101-a5ad-cf50679f05c4",
   "metadata": {},
   "outputs": [],
   "source": [
    "for line in archivo.readlines():\n",
    "    lines.append(line)"
   ]
  },
  {
   "cell_type": "code",
   "execution_count": 4,
   "id": "5587d7fe-38da-4b28-add1-67592fa890ca",
   "metadata": {},
   "outputs": [
    {
     "data": {
      "text/plain": [
       "'9 1 1 1\\n'"
      ]
     },
     "execution_count": 4,
     "metadata": {},
     "output_type": "execute_result"
    }
   ],
   "source": [
    "lines.pop(0)"
   ]
  },
  {
   "cell_type": "code",
   "execution_count": 5,
   "id": "6f9a9d2b-6cef-499b-a2ce-13ae5fee2988",
   "metadata": {},
   "outputs": [
    {
     "data": {
      "text/plain": [
       "['4', 'cebolla', 'queso', 'garbanzo', 'aji']"
      ]
     },
     "execution_count": 5,
     "metadata": {},
     "output_type": "execute_result"
    }
   ],
   "source": [
    "lines[5].split()"
   ]
  },
  {
   "cell_type": "code",
   "execution_count": 11,
   "id": "633e402a-86e4-4122-88bf-f88708eee8d1",
   "metadata": {},
   "outputs": [],
   "source": [
    "NInicial = lines[0]\n",
    "for j in range(len(lines)):\n",
    "    ingrediente = lines[j]\n",
    "    ListaI = ingrediente.split()\n",
    "    for x in range(len(ListaI)):\n",
    "        if x == 0:\n",
    "            pass\n",
    "        else:\n",
    "            ingredienteActual = ListaI[x]\n",
    "            ingredientes.append(ingredienteActual)"
   ]
  },
  {
   "cell_type": "code",
   "execution_count": 13,
   "id": "ca890115-5af3-46df-89df-1e20665cec3a",
   "metadata": {},
   "outputs": [],
   "source": [
    "ingredientesF = []\n",
    "for ing in ingredientes:\n",
    "    if ing not in ingredientesF:\n",
    "        ingredientesF.append(ing)"
   ]
  },
  {
   "cell_type": "code",
   "execution_count": 15,
   "id": "d3ae8edc-024c-41ba-b25a-047b5f5c1cbf",
   "metadata": {},
   "outputs": [],
   "source": [
    "platos = lines\n",
    "listaDeIngredientes = ingredientesF"
   ]
  },
  {
   "cell_type": "code",
   "execution_count": 16,
   "id": "8f0be693-dd68-4357-82f1-f7d61fc2e84d",
   "metadata": {},
   "outputs": [],
   "source": [
    "cantidadDeIngredientes = len(listaDeIngredientes)\n",
    "cantidadDePlatos = len(platos)"
   ]
  },
  {
   "cell_type": "code",
   "execution_count": 18,
   "id": "0b579e1a-3554-4dc5-8947-78716d7ed9bd",
   "metadata": {},
   "outputs": [],
   "source": [
    "matriz = np.zeros((cantidadDeIngredientes,cantidadDePlatos))"
   ]
  },
  {
   "cell_type": "code",
   "execution_count": 20,
   "id": "caa87b68-6004-4458-aab0-c890a917c8e8",
   "metadata": {},
   "outputs": [],
   "source": [
    "def buscarPalabra(frase,palabra):\n",
    "    if palabra in frase:\n",
    "        return True\n",
    "    return False"
   ]
  },
  {
   "cell_type": "code",
   "execution_count": 21,
   "id": "34204d08-c2c1-44e0-b7fd-3d1dfc6df06a",
   "metadata": {},
   "outputs": [],
   "source": [
    "def reconocerIngredientes(plato, numeroPlato, matriz):\n",
    "    i = 0\n",
    "    for ing in listaDeIngredientes:\n",
    "        cont = buscarPalabra(plato,ing)\n",
    "        if cont:\n",
    "            matriz[i][int(numeroPlato)]=1\n",
    "        i = i + 1\n",
    "    return matriz"
   ]
  },
  {
   "cell_type": "code",
   "execution_count": 22,
   "id": "e9f4aa88-fa47-43dc-8e7b-7d0ea70012cf",
   "metadata": {},
   "outputs": [
    {
     "name": "stdout",
     "output_type": "stream",
     "text": [
      "[[1. 0. 0. 1. 0. 0. 0. 0. 0.]\n",
      " [1. 0. 1. 1. 0. 1. 1. 1. 1.]\n",
      " [1. 0. 0. 1. 0. 0. 0. 0. 0.]\n",
      " [1. 1. 0. 1. 1. 0. 0. 0. 0.]\n",
      " [1. 1. 0. 1. 1. 0. 0. 0. 0.]\n",
      " [0. 1. 0. 0. 1. 0. 0. 0. 0.]\n",
      " [0. 1. 0. 0. 1. 0. 0. 0. 0.]\n",
      " [0. 1. 1. 0. 1. 1. 1. 1. 1.]\n",
      " [0. 0. 1. 0. 0. 1. 1. 1. 1.]\n",
      " [0. 0. 1. 0. 0. 1. 1. 1. 1.]]\n"
     ]
    }
   ],
   "source": [
    "num = 0\n",
    "for i in platos:\n",
    "    matriz =reconocerIngredientes(i,num,matriz)\n",
    "    num = num + 1\n",
    "print(matriz)"
   ]
  },
  {
   "cell_type": "code",
   "execution_count": 23,
   "id": "e2ad39c1-8771-4968-a42f-abce019612bc",
   "metadata": {},
   "outputs": [],
   "source": [
    "archivo.close()"
   ]
  },
  {
   "cell_type": "code",
   "execution_count": 59,
   "id": "42f5b1f1-3a1f-4d43-a59f-322f2753d687",
   "metadata": {},
   "outputs": [],
   "source": [
    "archivo = open('myFile2.csv','r')"
   ]
  },
  {
   "cell_type": "code",
   "execution_count": 60,
   "id": "8827629f-4245-4aca-8fce-490cdfb09200",
   "metadata": {},
   "outputs": [],
   "source": [
    "var = archivo.read()"
   ]
  },
  {
   "cell_type": "code",
   "execution_count": 69,
   "id": "f8f2bbea-3d24-4bb8-bd85-295d06242b46",
   "metadata": {},
   "outputs": [],
   "source": [
    "lista = var.split()"
   ]
  },
  {
   "cell_type": "code",
   "execution_count": 70,
   "id": "29416ba9-4619-420d-a20d-b4d18893817f",
   "metadata": {},
   "outputs": [
    {
     "data": {
      "text/plain": [
       "',,,,'"
      ]
     },
     "execution_count": 70,
     "metadata": {},
     "output_type": "execute_result"
    }
   ],
   "source": [
    "lista.pop(0)"
   ]
  },
  {
   "cell_type": "code",
   "execution_count": 75,
   "id": "c19df519-4550-49ec-a9fa-eb8bdb17bab1",
   "metadata": {},
   "outputs": [
    {
     "data": {
      "text/plain": [
       "['415', '797.71', '592.17', '953', '35']"
      ]
     },
     "execution_count": 75,
     "metadata": {},
     "output_type": "execute_result"
    }
   ],
   "source": [
    "lista[0].split(',')"
   ]
  },
  {
   "cell_type": "code",
   "execution_count": 76,
   "id": "45aee3f2-1097-443b-a247-9d99c23f2059",
   "metadata": {},
   "outputs": [],
   "source": [
    "nuevaLista = []\n",
    "for i in range(len(lista)):\n",
    "    listaSplit = lista[i].split(',')\n",
    "    listaFloat = []\n",
    "    for j in range(len(listaSplit)):\n",
    "        elemento = listaSplit[j]\n",
    "        listaFloat.append(float(elemento))\n",
    "    nuevaLista.append(listaFloat)\n",
    "        "
   ]
  },
  {
   "cell_type": "code",
   "execution_count": 78,
   "id": "6797d2f4-f846-4a83-be57-7fe876712e7e",
   "metadata": {},
   "outputs": [
    {
     "name": "stdout",
     "output_type": "stream",
     "text": [
      "1000.0\n"
     ]
    }
   ],
   "source": [
    "mayor = 0\n",
    "for i in range(len(nuevaLista)):\n",
    "    for j in range(len(nuevaLista[i])):\n",
    "        if nuevaLista[i][j] > mayor:\n",
    "            mayor = nuevaLista[i][j]\n",
    "print(mayor)"
   ]
  },
  {
   "cell_type": "code",
   "execution_count": 79,
   "id": "93f69bce-3159-40a8-9ae5-04b6172fa8ea",
   "metadata": {},
   "outputs": [
    {
     "name": "stdout",
     "output_type": "stream",
     "text": [
      "1.17\n"
     ]
    }
   ],
   "source": [
    "menor = 1000000\n",
    "for i in range(len(nuevaLista)):\n",
    "    for j in range(len(nuevaLista[i])):\n",
    "        if nuevaLista[i][j] < menor:\n",
    "            menor = nuevaLista[i][j]\n",
    "print(menor)"
   ]
  },
  {
   "cell_type": "code",
   "execution_count": 81,
   "id": "82beef1f-7f8e-446b-b632-6c136c520325",
   "metadata": {},
   "outputs": [
    {
     "name": "stdout",
     "output_type": "stream",
     "text": [
      "506.61703399999953\n"
     ]
    }
   ],
   "source": [
    "suma = 0\n",
    "numeroElementos = len(nuevaLista)*len(nuevaLista[0])\n",
    "for i in range(len(nuevaLista)):\n",
    "    for j in range(len(nuevaLista[i])):\n",
    "        suma = suma + nuevaLista[i][j]\n",
    "        \n",
    "promedio = suma/numeroElementos\n",
    "        \n",
    "print(promedio)"
   ]
  }
 ],
 "metadata": {
  "kernelspec": {
   "display_name": "Python 3",
   "language": "python",
   "name": "python3"
  },
  "language_info": {
   "codemirror_mode": {
    "name": "ipython",
    "version": 3
   },
   "file_extension": ".py",
   "mimetype": "text/x-python",
   "name": "python",
   "nbconvert_exporter": "python",
   "pygments_lexer": "ipython3",
   "version": "3.8.8"
  }
 },
 "nbformat": 4,
 "nbformat_minor": 5
}
